{
 "cells": [
  {
   "cell_type": "code",
   "execution_count": 29,
   "metadata": {},
   "outputs": [],
   "source": [
    "# All libraries needed\n",
    "import numpy as np\n",
    "import matplotlib.pyplot as plt\n",
    "import pandas as pd\n",
    "import json as js"
   ]
  },
  {
   "attachments": {},
   "cell_type": "markdown",
   "metadata": {},
   "source": [
    "Read competitions file to know the Women's EURO id and all the informations"
   ]
  },
  {
   "cell_type": "code",
   "execution_count": 30,
   "metadata": {},
   "outputs": [],
   "source": [
    "f = open('./data/competitions.json')\n",
    "  \n",
    "data = js.load(f)\n",
    "\n",
    "for i in range(len(data)):\n",
    "    if data[i]['competition_name'] == \"UEFA Women's Euro\":\n",
    "        compet = data[i]\n",
    "\n",
    "f.close()"
   ]
  },
  {
   "cell_type": "code",
   "execution_count": 31,
   "metadata": {},
   "outputs": [
    {
     "data": {
      "text/plain": [
       "{'competition_id': 53,\n",
       " 'season_id': 106,\n",
       " 'country_name': 'Europe',\n",
       " 'competition_name': \"UEFA Women's Euro\",\n",
       " 'competition_gender': 'female',\n",
       " 'competition_youth': False,\n",
       " 'competition_international': True,\n",
       " 'season_name': '2022',\n",
       " 'match_updated': '2022-12-02T01:39:22.349340',\n",
       " 'match_updated_360': '2022-09-13T17:04:11.418708',\n",
       " 'match_available_360': '2022-09-13T17:04:11.418708',\n",
       " 'match_available': '2022-12-02T01:39:22.349340'}"
      ]
     },
     "execution_count": 31,
     "metadata": {},
     "output_type": "execute_result"
    }
   ],
   "source": [
    "compet"
   ]
  },
  {
   "attachments": {},
   "cell_type": "markdown",
   "metadata": {},
   "source": [
    "Open matches file from competition selected"
   ]
  },
  {
   "cell_type": "code",
   "execution_count": 32,
   "metadata": {},
   "outputs": [],
   "source": [
    "f = open('./data/matches/%s/%s.json' %(compet['competition_id'], compet['season_id']))\n",
    "\n",
    "data = js.load(f)\n",
    "\n",
    "matches = {}\n",
    "\n",
    "for i in range(len(data)):\n",
    "    if (data[i]['home_team']['home_team_name'] == \"France Women's\") or (data[i]['away_team']['away_team_name'] == \"France Women's\") :\n",
    "        matches[i] = data[i]\n",
    "\n",
    "f.close()"
   ]
  },
  {
   "cell_type": "code",
   "execution_count": 33,
   "metadata": {},
   "outputs": [],
   "source": [
    "for i in matches:\n",
    "    if matches[i]['competition_stage']['name'] == \"Semi-finals\":\n",
    "        sf = matches[i]"
   ]
  },
  {
   "attachments": {},
   "cell_type": "markdown",
   "metadata": {},
   "source": [
    "Open lineups of semi-final, where the teams' details are"
   ]
  },
  {
   "cell_type": "code",
   "execution_count": 34,
   "metadata": {},
   "outputs": [],
   "source": [
    "f = open('./data/lineups/%s.json' %sf['match_id'])\n",
    "\n",
    "lineups = js.load(f)\n",
    "\n",
    "f.close()\n"
   ]
  },
  {
   "attachments": {},
   "cell_type": "markdown",
   "metadata": {},
   "source": [
    "Open events and three-sixty data"
   ]
  },
  {
   "cell_type": "code",
   "execution_count": 35,
   "metadata": {},
   "outputs": [],
   "source": [
    "f = open('./data/three-sixty/%s.json' %sf['match_id'])\n",
    "\n",
    "loc = js.load(f)\n",
    "\n",
    "f.close()"
   ]
  },
  {
   "cell_type": "code",
   "execution_count": 38,
   "metadata": {},
   "outputs": [],
   "source": [
    "f = open('./data/events/%s.json' %sf['match_id'])\n",
    "\n",
    "events = js.load(f)\n",
    "\n",
    "f.close()"
   ]
  },
  {
   "attachments": {},
   "cell_type": "markdown",
   "metadata": {},
   "source": [
    "Only the first half of the match is available for now...\n",
    "\n",
    "Let's see all the shots' locations for the first half"
   ]
  },
  {
   "cell_type": "code",
   "execution_count": 41,
   "metadata": {},
   "outputs": [
    {
     "data": {
      "text/plain": [
       "{'id': 'c7dc8818-a205-4bf1-bc08-fda499abebbd',\n",
       " 'index': 1,\n",
       " 'period': 1,\n",
       " 'timestamp': '00:00:00.000',\n",
       " 'minute': 0,\n",
       " 'second': 0,\n",
       " 'type': {'id': 35, 'name': 'Starting XI'},\n",
       " 'possession': 1,\n",
       " 'possession_team': {'id': 857, 'name': \"Germany Women's\"},\n",
       " 'play_pattern': {'id': 1, 'name': 'Regular Play'},\n",
       " 'team': {'id': 857, 'name': \"Germany Women's\"},\n",
       " 'duration': 0.0,\n",
       " 'tactics': {'formation': 433,\n",
       "  'lineup': [{'player': {'id': 15443, 'name': 'Merle Frohms'},\n",
       "    'position': {'id': 1, 'name': 'Goalkeeper'},\n",
       "    'jersey_number': 1},\n",
       "   {'player': {'id': 25492, 'name': 'Giulia Gwinn'},\n",
       "    'position': {'id': 2, 'name': 'Right Back'},\n",
       "    'jersey_number': 15},\n",
       "   {'player': {'id': 10399, 'name': 'Kathrin Julia Hendrich'},\n",
       "    'position': {'id': 3, 'name': 'Right Center Back'},\n",
       "    'jersey_number': 3},\n",
       "   {'player': {'id': 25491, 'name': 'Marina Hegering'},\n",
       "    'position': {'id': 5, 'name': 'Left Center Back'},\n",
       "    'jersey_number': 5},\n",
       "   {'player': {'id': 32355, 'name': 'Felicitas Rauch'},\n",
       "    'position': {'id': 6, 'name': 'Left Back'},\n",
       "    'jersey_number': 17},\n",
       "   {'player': {'id': 25478, 'name': 'Lena Oberdorf'},\n",
       "    'position': {'id': 10, 'name': 'Center Defensive Midfield'},\n",
       "    'jersey_number': 6},\n",
       "   {'player': {'id': 10259, 'name': 'Lina Magull'},\n",
       "    'position': {'id': 13, 'name': 'Right Center Midfield'},\n",
       "    'jersey_number': 20},\n",
       "   {'player': {'id': 10263, 'name': 'Sara Däbritz'},\n",
       "    'position': {'id': 15, 'name': 'Left Center Midfield'},\n",
       "    'jersey_number': 13},\n",
       "   {'player': {'id': 46987, 'name': 'Jule Brand'},\n",
       "    'position': {'id': 17, 'name': 'Right Wing'},\n",
       "    'jersey_number': 22},\n",
       "   {'player': {'id': 10374, 'name': 'Svenja Huth'},\n",
       "    'position': {'id': 21, 'name': 'Left Wing'},\n",
       "    'jersey_number': 9},\n",
       "   {'player': {'id': 15178, 'name': 'Alexandra Popp'},\n",
       "    'position': {'id': 23, 'name': 'Center Forward'},\n",
       "    'jersey_number': 11}]}}"
      ]
     },
     "execution_count": 41,
     "metadata": {},
     "output_type": "execute_result"
    }
   ],
   "source": [
    "events[0]"
   ]
  },
  {
   "cell_type": "code",
   "execution_count": 46,
   "metadata": {},
   "outputs": [],
   "source": [
    "shots = {}\n",
    "\n",
    "for i in range(len(events)):\n",
    "    if events[i]['type']['name'] == \"Shot\":\n",
    "        shots[i] = events[i]"
   ]
  },
  {
   "cell_type": "code",
   "execution_count": null,
   "metadata": {},
   "outputs": [],
   "source": []
  }
 ],
 "metadata": {
  "kernelspec": {
   "display_name": "base",
   "language": "python",
   "name": "python3"
  },
  "language_info": {
   "codemirror_mode": {
    "name": "ipython",
    "version": 3
   },
   "file_extension": ".py",
   "mimetype": "text/x-python",
   "name": "python",
   "nbconvert_exporter": "python",
   "pygments_lexer": "ipython3",
   "version": "3.7.11"
  },
  "orig_nbformat": 4,
  "vscode": {
   "interpreter": {
    "hash": "d071c9e46e89fc979af62861e723ad6e66fa55c5254b7beaeadd61d7676492a1"
   }
  }
 },
 "nbformat": 4,
 "nbformat_minor": 2
}
