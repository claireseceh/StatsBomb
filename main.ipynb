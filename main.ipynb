{
 "cells": [
  {
   "cell_type": "code",
   "execution_count": 29,
   "metadata": {},
   "outputs": [],
   "source": [
    "# All libraries needed\n",
    "import numpy as np\n",
    "import matplotlib.pyplot as plt\n",
    "import pandas as pd\n",
    "import json as js"
   ]
  },
  {
   "attachments": {},
   "cell_type": "markdown",
   "metadata": {},
   "source": [
    "Read competitions file to know the Women's EURO id and all the informations"
   ]
  },
  {
   "cell_type": "code",
   "execution_count": 30,
   "metadata": {},
   "outputs": [],
   "source": [
    "f = open('./data/competitions.json')\n",
    "  \n",
    "data = js.load(f)\n",
    "\n",
    "for i in range(len(data)):\n",
    "    if data[i]['competition_name'] == \"UEFA Women's Euro\":\n",
    "        compet = data[i]\n",
    "\n",
    "f.close()"
   ]
  },
  {
   "cell_type": "code",
   "execution_count": 31,
   "metadata": {},
   "outputs": [
    {
     "data": {
      "text/plain": [
       "{'competition_id': 53,\n",
       " 'season_id': 106,\n",
       " 'country_name': 'Europe',\n",
       " 'competition_name': \"UEFA Women's Euro\",\n",
       " 'competition_gender': 'female',\n",
       " 'competition_youth': False,\n",
       " 'competition_international': True,\n",
       " 'season_name': '2022',\n",
       " 'match_updated': '2022-12-02T01:39:22.349340',\n",
       " 'match_updated_360': '2022-09-13T17:04:11.418708',\n",
       " 'match_available_360': '2022-09-13T17:04:11.418708',\n",
       " 'match_available': '2022-12-02T01:39:22.349340'}"
      ]
     },
     "execution_count": 31,
     "metadata": {},
     "output_type": "execute_result"
    }
   ],
   "source": [
    "compet"
   ]
  },
  {
   "attachments": {},
   "cell_type": "markdown",
   "metadata": {},
   "source": [
    "Open matches file from competition selected"
   ]
  },
  {
   "cell_type": "code",
   "execution_count": 32,
   "metadata": {},
   "outputs": [],
   "source": [
    "f = open('./data/matches/%s/%s.json' %(compet['competition_id'], compet['season_id']))\n",
    "\n",
    "data = js.load(f)\n",
    "\n",
    "matches = {}\n",
    "\n",
    "for i in range(len(data)):\n",
    "    if (data[i]['home_team']['home_team_name'] == \"France Women's\") or (data[i]['away_team']['away_team_name'] == \"France Women's\") :\n",
    "        matches[i] = data[i]\n",
    "\n",
    "f.close()"
   ]
  },
  {
   "cell_type": "code",
   "execution_count": 33,
   "metadata": {},
   "outputs": [],
   "source": [
    "for i in matches:\n",
    "    if matches[i]['competition_stage']['name'] == \"Semi-finals\":\n",
    "        sf = matches[i]"
   ]
  },
  {
   "attachments": {},
   "cell_type": "markdown",
   "metadata": {},
   "source": [
    "Open lineups of semi-final, where the teams' details are"
   ]
  },
  {
   "cell_type": "code",
   "execution_count": 34,
   "metadata": {},
   "outputs": [],
   "source": [
    "f = open('./data/lineups/%s.json' %sf['match_id'])\n",
    "\n",
    "lineups = js.load(f)\n",
    "\n",
    "f.close()\n"
   ]
  },
  {
   "attachments": {},
   "cell_type": "markdown",
   "metadata": {},
   "source": [
    "Open events and three-sixty data"
   ]
  },
  {
   "cell_type": "code",
   "execution_count": 35,
   "metadata": {},
   "outputs": [],
   "source": [
    "f = open('./data/three-sixty/%s.json' %sf['match_id'])\n",
    "\n",
    "loc = js.load(f)\n",
    "\n",
    "f.close()"
   ]
  },
  {
   "cell_type": "code",
   "execution_count": 38,
   "metadata": {},
   "outputs": [],
   "source": [
    "f = open('./data/events/%s.json' %sf['match_id'])\n",
    "\n",
    "events = js.load(f)\n",
    "\n",
    "f.close()"
   ]
  },
  {
   "attachments": {},
   "cell_type": "markdown",
   "metadata": {},
   "source": [
    "Only the first half of the match is available for now...\n",
    "\n",
    "Let's see all the shots' locations for the first half"
   ]
  },
  {
   "cell_type": "code",
   "execution_count": 41,
   "metadata": {},
   "outputs": [
    {
     "data": {
      "text/plain": [
       "{'id': 'c7dc8818-a205-4bf1-bc08-fda499abebbd',\n",
       " 'index': 1,\n",
       " 'period': 1,\n",
       " 'timestamp': '00:00:00.000',\n",
       " 'minute': 0,\n",
       " 'second': 0,\n",
       " 'type': {'id': 35, 'name': 'Starting XI'},\n",
       " 'possession': 1,\n",
       " 'possession_team': {'id': 857, 'name': \"Germany Women's\"},\n",
       " 'play_pattern': {'id': 1, 'name': 'Regular Play'},\n",
       " 'team': {'id': 857, 'name': \"Germany Women's\"},\n",
       " 'duration': 0.0,\n",
       " 'tactics': {'formation': 433,\n",
       "  'lineup': [{'player': {'id': 15443, 'name': 'Merle Frohms'},\n",
       "    'position': {'id': 1, 'name': 'Goalkeeper'},\n",
       "    'jersey_number': 1},\n",
       "   {'player': {'id': 25492, 'name': 'Giulia Gwinn'},\n",
       "    'position': {'id': 2, 'name': 'Right Back'},\n",
       "    'jersey_number': 15},\n",
       "   {'player': {'id': 10399, 'name': 'Kathrin Julia Hendrich'},\n",
       "    'position': {'id': 3, 'name': 'Right Center Back'},\n",
       "    'jersey_number': 3},\n",
       "   {'player': {'id': 25491, 'name': 'Marina Hegering'},\n",
       "    'position': {'id': 5, 'name': 'Left Center Back'},\n",
       "    'jersey_number': 5},\n",
       "   {'player': {'id': 32355, 'name': 'Felicitas Rauch'},\n",
       "    'position': {'id': 6, 'name': 'Left Back'},\n",
       "    'jersey_number': 17},\n",
       "   {'player': {'id': 25478, 'name': 'Lena Oberdorf'},\n",
       "    'position': {'id': 10, 'name': 'Center Defensive Midfield'},\n",
       "    'jersey_number': 6},\n",
       "   {'player': {'id': 10259, 'name': 'Lina Magull'},\n",
       "    'position': {'id': 13, 'name': 'Right Center Midfield'},\n",
       "    'jersey_number': 20},\n",
       "   {'player': {'id': 10263, 'name': 'Sara Däbritz'},\n",
       "    'position': {'id': 15, 'name': 'Left Center Midfield'},\n",
       "    'jersey_number': 13},\n",
       "   {'player': {'id': 46987, 'name': 'Jule Brand'},\n",
       "    'position': {'id': 17, 'name': 'Right Wing'},\n",
       "    'jersey_number': 22},\n",
       "   {'player': {'id': 10374, 'name': 'Svenja Huth'},\n",
       "    'position': {'id': 21, 'name': 'Left Wing'},\n",
       "    'jersey_number': 9},\n",
       "   {'player': {'id': 15178, 'name': 'Alexandra Popp'},\n",
       "    'position': {'id': 23, 'name': 'Center Forward'},\n",
       "    'jersey_number': 11}]}}"
      ]
     },
     "execution_count": 41,
     "metadata": {},
     "output_type": "execute_result"
    }
   ],
   "source": [
    "events[0]"
   ]
  },
  {
   "cell_type": "code",
   "execution_count": 43,
   "metadata": {},
   "outputs": [],
   "source": [
    "shots = {}\n",
    "\n",
    "for i in range(len(events)):\n",
    "    if events[i]['type']['name'] == \"Shot\":\n",
    "        shots = events[i]"
   ]
  },
  {
   "cell_type": "code",
   "execution_count": 44,
   "metadata": {},
   "outputs": [
    {
     "data": {
      "text/plain": [
       "{'id': 'ec9dc783-417c-4882-966a-5ffda7cd1bdf',\n",
       " 'index': 3239,\n",
       " 'period': 2,\n",
       " 'timestamp': '00:46:33.895',\n",
       " 'minute': 91,\n",
       " 'second': 33,\n",
       " 'type': {'id': 16, 'name': 'Shot'},\n",
       " 'possession': 179,\n",
       " 'possession_team': {'id': 861, 'name': \"France Women's\"},\n",
       " 'play_pattern': {'id': 3, 'name': 'From Free Kick'},\n",
       " 'team': {'id': 861, 'name': \"France Women's\"},\n",
       " 'player': {'id': 15471, 'name': 'Selma Bacha'},\n",
       " 'position': {'id': 21, 'name': 'Left Wing'},\n",
       " 'location': [89.4, 44.2],\n",
       " 'duration': 1.272386,\n",
       " 'related_events': ['9185df7b-3601-4c23-aa6a-aa6d772db178'],\n",
       " 'shot': {'statsbomb_xg': 0.030732894,\n",
       "  'end_location': [120.0, 36.6, 4.8],\n",
       "  'body_part': {'id': 38, 'name': 'Left Foot'},\n",
       "  'type': {'id': 62, 'name': 'Free Kick'},\n",
       "  'outcome': {'id': 98, 'name': 'Off T'},\n",
       "  'technique': {'id': 93, 'name': 'Normal'},\n",
       "  'freeze_frame': [{'location': [97.9, 44.5],\n",
       "    'player': {'id': 24883, 'name': 'Sydney Lohmann'},\n",
       "    'position': {'id': 15, 'name': 'Left Center Midfield'},\n",
       "    'teammate': False},\n",
       "   {'location': [106.3, 29.9],\n",
       "    'player': {'id': 46987, 'name': 'Jule Brand'},\n",
       "    'position': {'id': 17, 'name': 'Right Wing'},\n",
       "    'teammate': False},\n",
       "   {'location': [97.9, 43.8],\n",
       "    'player': {'id': 10399, 'name': 'Kathrin Julia Hendrich'},\n",
       "    'position': {'id': 3, 'name': 'Right Center Back'},\n",
       "    'teammate': False},\n",
       "   {'location': [97.8, 43.2],\n",
       "    'player': {'id': 25478, 'name': 'Lena Oberdorf'},\n",
       "    'position': {'id': 10, 'name': 'Center Defensive Midfield'},\n",
       "    'teammate': False},\n",
       "   {'location': [97.8, 42.4],\n",
       "    'player': {'id': 10261, 'name': 'Sara Doorsoun-Khajeh'},\n",
       "    'position': {'id': 5, 'name': 'Left Center Back'},\n",
       "    'teammate': False},\n",
       "   {'location': [105.0, 38.5],\n",
       "    'player': {'id': 15178, 'name': 'Alexandra Popp'},\n",
       "    'position': {'id': 23, 'name': 'Center Forward'},\n",
       "    'teammate': False},\n",
       "   {'location': [104.3, 37.0],\n",
       "    'player': {'id': 25492, 'name': 'Giulia Gwinn'},\n",
       "    'position': {'id': 2, 'name': 'Right Back'},\n",
       "    'teammate': False},\n",
       "   {'location': [101.0, 56.1],\n",
       "    'player': {'id': 10258, 'name': 'Linda Dallmann'},\n",
       "    'position': {'id': 13, 'name': 'Right Center Midfield'},\n",
       "    'teammate': False},\n",
       "   {'location': [104.7, 49.7],\n",
       "    'player': {'id': 32355, 'name': 'Felicitas Rauch'},\n",
       "    'position': {'id': 6, 'name': 'Left Back'},\n",
       "    'teammate': False},\n",
       "   {'location': [104.2, 47.7],\n",
       "    'player': {'id': 46975, 'name': 'Tabea Waßmuth'},\n",
       "    'position': {'id': 21, 'name': 'Left Wing'},\n",
       "    'teammate': False},\n",
       "   {'location': [103.0, 39.3],\n",
       "    'player': {'id': 10272, 'name': 'Onema Grace Geyoro'},\n",
       "    'position': {'id': 11, 'name': 'Left Defensive Midfield'},\n",
       "    'teammate': True},\n",
       "   {'location': [104.0, 37.3],\n",
       "    'player': {'id': 15285, 'name': 'Ouleymata Sarr'},\n",
       "    'position': {'id': 19, 'name': 'Center Attacking Midfield'},\n",
       "    'teammate': True},\n",
       "   {'location': [103.0, 34.5],\n",
       "    'player': {'id': 31636, 'name': 'Clara Mateo'},\n",
       "    'position': {'id': 17, 'name': 'Right Wing'},\n",
       "    'teammate': True},\n",
       "   {'location': [118.4, 39.9],\n",
       "    'player': {'id': 15443, 'name': 'Merle Frohms'},\n",
       "    'position': {'id': 1, 'name': 'Goalkeeper'},\n",
       "    'teammate': False},\n",
       "   {'location': [101.9, 60.5],\n",
       "    'player': {'id': 10418, 'name': 'Eve Perisset'},\n",
       "    'position': {'id': 2, 'name': 'Right Back'},\n",
       "    'teammate': True},\n",
       "   {'location': [104.1, 50.9],\n",
       "    'player': {'id': 10271, 'name': 'Griedge Mbock Bathy Nka'},\n",
       "    'position': {'id': 3, 'name': 'Right Center Back'},\n",
       "    'teammate': True},\n",
       "   {'location': [104.4, 48.4],\n",
       "    'player': {'id': 10137, 'name': 'Kadidiatou Diani'},\n",
       "    'position': {'id': 23, 'name': 'Center Forward'},\n",
       "    'teammate': True},\n",
       "   {'location': [104.4, 26.2],\n",
       "    'player': {'id': 10125, 'name': 'Wendie Renard'},\n",
       "    'position': {'id': 5, 'name': 'Left Center Back'},\n",
       "    'teammate': True},\n",
       "   {'location': [91.3, 35.0],\n",
       "    'player': {'id': 25727, 'name': 'Charlotte Bilbault'},\n",
       "    'position': {'id': 9, 'name': 'Right Defensive Midfield'},\n",
       "    'teammate': True}]}}"
      ]
     },
     "execution_count": 44,
     "metadata": {},
     "output_type": "execute_result"
    }
   ],
   "source": [
    "shots"
   ]
  },
  {
   "cell_type": "code",
   "execution_count": null,
   "metadata": {},
   "outputs": [],
   "source": []
  }
 ],
 "metadata": {
  "kernelspec": {
   "display_name": "base",
   "language": "python",
   "name": "python3"
  },
  "language_info": {
   "codemirror_mode": {
    "name": "ipython",
    "version": 3
   },
   "file_extension": ".py",
   "mimetype": "text/x-python",
   "name": "python",
   "nbconvert_exporter": "python",
   "pygments_lexer": "ipython3",
   "version": "3.7.11"
  },
  "orig_nbformat": 4,
  "vscode": {
   "interpreter": {
    "hash": "d071c9e46e89fc979af62861e723ad6e66fa55c5254b7beaeadd61d7676492a1"
   }
  }
 },
 "nbformat": 4,
 "nbformat_minor": 2
}
