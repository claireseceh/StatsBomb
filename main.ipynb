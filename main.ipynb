{
 "cells": [
  {
   "cell_type": "code",
   "execution_count": 29,
   "metadata": {},
   "outputs": [],
   "source": [
    "# All libraries needed\n",
    "import numpy as np\n",
    "import matplotlib.pyplot as plt\n",
    "import pandas as pd\n",
    "import json as js"
   ]
  },
  {
   "attachments": {},
   "cell_type": "markdown",
   "metadata": {},
   "source": [
    "Read competitions file to know the Women's EURO id and all the informations"
   ]
  },
  {
   "cell_type": "code",
   "execution_count": 30,
   "metadata": {},
   "outputs": [],
   "source": [
    "f = open('./data/competitions.json')\n",
    "  \n",
    "data = js.load(f)\n",
    "\n",
    "for i in range(len(data)):\n",
    "    if data[i]['competition_name'] == \"UEFA Women's Euro\":\n",
    "        compet = data[i]\n",
    "\n",
    "f.close()"
   ]
  },
  {
   "attachments": {},
   "cell_type": "markdown",
   "metadata": {},
   "source": [
    "Open matches file from competition selected"
   ]
  },
  {
   "cell_type": "code",
   "execution_count": 32,
   "metadata": {},
   "outputs": [],
   "source": [
    "f = open('./data/matches/%s/%s.json' %(compet['competition_id'], compet['season_id']))\n",
    "\n",
    "data = js.load(f)\n",
    "\n",
    "matches = {}\n",
    "\n",
    "for i in range(len(data)):\n",
    "    if (data[i]['home_team']['home_team_name'] == \"France Women's\") or (data[i]['away_team']['away_team_name'] == \"France Women's\") :\n",
    "        matches[i] = data[i]\n",
    "\n",
    "f.close()"
   ]
  },
  {
   "cell_type": "code",
   "execution_count": 33,
   "metadata": {},
   "outputs": [],
   "source": [
    "for i in matches:\n",
    "    if matches[i]['competition_stage']['name'] == \"Semi-finals\":\n",
    "        sf = matches[i]"
   ]
  },
  {
   "attachments": {},
   "cell_type": "markdown",
   "metadata": {},
   "source": [
    "Open lineups of semi-final, where the teams' details are"
   ]
  },
  {
   "cell_type": "code",
   "execution_count": 34,
   "metadata": {},
   "outputs": [],
   "source": [
    "f = open('./data/lineups/%s.json' %sf['match_id'])\n",
    "\n",
    "lineups = js.load(f)\n",
    "\n",
    "f.close()\n"
   ]
  },
  {
   "attachments": {},
   "cell_type": "markdown",
   "metadata": {},
   "source": [
    "Open events and three-sixty data"
   ]
  },
  {
   "cell_type": "code",
   "execution_count": 35,
   "metadata": {},
   "outputs": [],
   "source": [
    "f = open('./data/three-sixty/%s.json' %sf['match_id'])\n",
    "\n",
    "loc = js.load(f)\n",
    "\n",
    "f.close()"
   ]
  },
  {
   "cell_type": "code",
   "execution_count": 38,
   "metadata": {},
   "outputs": [],
   "source": [
    "f = open('./data/events/%s.json' %sf['match_id'])\n",
    "\n",
    "events = js.load(f)\n",
    "\n",
    "f.close()"
   ]
  },
  {
   "attachments": {},
   "cell_type": "markdown",
   "metadata": {},
   "source": [
    "Only the first half of the match is available for now...\n",
    "\n",
    "Let's see all the shots' locations for the first half"
   ]
  },
  {
   "cell_type": "code",
   "execution_count": 46,
   "metadata": {},
   "outputs": [],
   "source": [
    "shots = {}\n",
    "\n",
    "for i in range(len(events)):\n",
    "    if events[i]['type']['name'] == \"Shot\":\n",
    "        shots[i] = events[i]"
   ]
  },
  {
   "cell_type": "code",
   "execution_count": null,
   "metadata": {},
   "outputs": [],
   "source": []
  }
 ],
 "metadata": {
  "kernelspec": {
   "display_name": "base",
   "language": "python",
   "name": "python3"
  },
  "language_info": {
   "codemirror_mode": {
    "name": "ipython",
    "version": 3
   },
   "file_extension": ".py",
   "mimetype": "text/x-python",
   "name": "python",
   "nbconvert_exporter": "python",
   "pygments_lexer": "ipython3",
   "version": "3.7.11"
  },
  "orig_nbformat": 4,
  "vscode": {
   "interpreter": {
    "hash": "d071c9e46e89fc979af62861e723ad6e66fa55c5254b7beaeadd61d7676492a1"
   }
  }
 },
 "nbformat": 4,
 "nbformat_minor": 2
}
