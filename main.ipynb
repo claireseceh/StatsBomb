{
 "cells": [
  {
   "cell_type": "code",
   "execution_count": 1,
   "metadata": {},
   "outputs": [],
   "source": [
    "# All libraries needed\n",
    "import numpy as np\n",
    "import matplotlib.pyplot as plt\n",
    "import pandas as pd\n",
    "import json as js"
   ]
  },
  {
   "attachments": {},
   "cell_type": "markdown",
   "metadata": {},
   "source": [
    "Read competitions file to know the Women's EURO id and all the informations"
   ]
  },
  {
   "cell_type": "code",
   "execution_count": 2,
   "metadata": {},
   "outputs": [],
   "source": [
    "f = open('./data/competitions.json')\n",
    "  \n",
    "data = js.load(f)\n"
   ]
  },
  {
   "cell_type": "code",
   "execution_count": 27,
   "metadata": {},
   "outputs": [],
   "source": [
    "for i in range(len(data)):\n",
    "    if data[i]['competition_name'] == \"UEFA Women's Euro\":\n",
    "        euro = data[i]"
   ]
  },
  {
   "cell_type": "code",
   "execution_count": 28,
   "metadata": {},
   "outputs": [
    {
     "data": {
      "text/plain": [
       "{'competition_id': 53,\n",
       " 'season_id': 106,\n",
       " 'country_name': 'Europe',\n",
       " 'competition_name': \"UEFA Women's Euro\",\n",
       " 'competition_gender': 'female',\n",
       " 'competition_youth': False,\n",
       " 'competition_international': True,\n",
       " 'season_name': '2022',\n",
       " 'match_updated': '2022-12-02T01:39:22.349340',\n",
       " 'match_updated_360': '2022-09-13T17:04:11.418708',\n",
       " 'match_available_360': '2022-09-13T17:04:11.418708',\n",
       " 'match_available': '2022-12-02T01:39:22.349340'}"
      ]
     },
     "execution_count": 28,
     "metadata": {},
     "output_type": "execute_result"
    }
   ],
   "source": [
    "euro"
   ]
  },
  {
   "cell_type": "code",
   "execution_count": null,
   "metadata": {},
   "outputs": [],
   "source": []
  }
 ],
 "metadata": {
  "kernelspec": {
   "display_name": "base",
   "language": "python",
   "name": "python3"
  },
  "language_info": {
   "codemirror_mode": {
    "name": "ipython",
    "version": 3
   },
   "file_extension": ".py",
   "mimetype": "text/x-python",
   "name": "python",
   "nbconvert_exporter": "python",
   "pygments_lexer": "ipython3",
   "version": "3.7.11"
  },
  "orig_nbformat": 4,
  "vscode": {
   "interpreter": {
    "hash": "d071c9e46e89fc979af62861e723ad6e66fa55c5254b7beaeadd61d7676492a1"
   }
  }
 },
 "nbformat": 4,
 "nbformat_minor": 2
}
