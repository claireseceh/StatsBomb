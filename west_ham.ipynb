{
 "cells": [
  {
   "cell_type": "code",
   "execution_count": 1,
   "metadata": {},
   "outputs": [],
   "source": [
    "# All libraries needed\n",
    "import numpy as np\n",
    "import matplotlib.pyplot as plt\n",
    "import pandas as pd\n",
    "import json as js"
   ]
  },
  {
   "attachments": {},
   "cell_type": "markdown",
   "metadata": {},
   "source": [
    "Read competitions file to know the Women's EURO id and all the informations"
   ]
  },
  {
   "cell_type": "code",
   "execution_count": 5,
   "metadata": {},
   "outputs": [],
   "source": [
    "f = open('./data/competitions.json')\n",
    "  \n",
    "data = js.load(f)\n",
    "\n",
    "for i in range(len(data)):\n",
    "    if (data[i]['competition_name'] == \"FA Women's Super League\") & (data[i]['season_name'] == '2020/2021'):\n",
    "        compet = data[i]\n",
    "\n",
    "f.close()"
   ]
  },
  {
   "cell_type": "code",
   "execution_count": 6,
   "metadata": {},
   "outputs": [
    {
     "data": {
      "text/plain": [
       "{'competition_id': 37,\n",
       " 'season_id': 90,\n",
       " 'country_name': 'England',\n",
       " 'competition_name': \"FA Women's Super League\",\n",
       " 'competition_gender': 'female',\n",
       " 'competition_youth': False,\n",
       " 'competition_international': False,\n",
       " 'season_name': '2020/2021',\n",
       " 'match_updated': '2022-11-29T22:31:27.257279',\n",
       " 'match_updated_360': '2021-06-13T16:17:31.694',\n",
       " 'match_available_360': None,\n",
       " 'match_available': '2022-11-29T22:31:27.257279'}"
      ]
     },
     "execution_count": 6,
     "metadata": {},
     "output_type": "execute_result"
    }
   ],
   "source": [
    "compet"
   ]
  },
  {
   "attachments": {},
   "cell_type": "markdown",
   "metadata": {},
   "source": [
    "Open matches file from competition selected"
   ]
  },
  {
   "cell_type": "code",
   "execution_count": 9,
   "metadata": {},
   "outputs": [],
   "source": [
    "f = open('./data/matches/%s/%s.json' %(compet['competition_id'], compet['season_id']))\n",
    "\n",
    "data = js.load(f)\n",
    "\n",
    "matches = {}\n",
    "\n",
    "for i in range(len(data)):\n",
    "    if (data[i]['home_team']['home_team_name'] == \"West Ham United LFC\") or (data[i]['away_team']['away_team_name'] == \"West Ham United LFC\") :\n",
    "        matches[i] = data[i]\n",
    "\n",
    "f.close()"
   ]
  },
  {
   "attachments": {},
   "cell_type": "markdown",
   "metadata": {},
   "source": [
    "Ideas of individual stats visualisation:\n",
    "- Ordering of distance runned and speed of all players and for the entire season (average by match played)\n",
    "- Heatmap for the entire season\n",
    "- all shots scored / missed for the entire season"
   ]
  },
  {
   "attachments": {},
   "cell_type": "markdown",
   "metadata": {},
   "source": [
    "Ideas of team stats visualisation:\n",
    "- Schemes of passes when a goal was scored\n",
    "- Prefered passes between players"
   ]
  },
  {
   "attachments": {},
   "cell_type": "markdown",
   "metadata": {},
   "source": []
  }
 ],
 "metadata": {
  "kernelspec": {
   "display_name": "base",
   "language": "python",
   "name": "python3"
  },
  "language_info": {
   "codemirror_mode": {
    "name": "ipython",
    "version": 3
   },
   "file_extension": ".py",
   "mimetype": "text/x-python",
   "name": "python",
   "nbconvert_exporter": "python",
   "pygments_lexer": "ipython3",
   "version": "3.7.11"
  },
  "orig_nbformat": 4,
  "vscode": {
   "interpreter": {
    "hash": "d071c9e46e89fc979af62861e723ad6e66fa55c5254b7beaeadd61d7676492a1"
   }
  }
 },
 "nbformat": 4,
 "nbformat_minor": 2
}
