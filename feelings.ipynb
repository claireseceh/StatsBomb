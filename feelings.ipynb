{
 "cells": [
  {
   "cell_type": "code",
   "execution_count": 1,
   "metadata": {},
   "outputs": [],
   "source": [
    "# All libraries needed\n",
    "import numpy as np\n",
    "import matplotlib.pyplot as plt\n",
    "import pandas as pd\n",
    "import json as js"
   ]
  },
  {
   "attachments": {},
   "cell_type": "markdown",
   "metadata": {},
   "source": [
    "Read competitions file to know La Liga id and all the informations"
   ]
  },
  {
   "cell_type": "code",
   "execution_count": 19,
   "metadata": {},
   "outputs": [],
   "source": [
    "f = open('./data/competitions.json')\n",
    "  \n",
    "data = js.load(f)\n",
    "\n",
    "for i in range(len(data)):\n",
    "    #if (data[i]['competition_name'] == \"La Liga\") & (data[i]['season_name'] == \"2020/2021\"):\n",
    "    if (data[i]['competition_name'] == \"FA Women's Super League\") & (data[i]['season_name'] == \"2020/2021\"):\n",
    "\n",
    "        compet = data[i]\n",
    "\n",
    "f.close()"
   ]
  },
  {
   "attachments": {},
   "cell_type": "markdown",
   "metadata": {},
   "source": [
    "Open matches file from competition selected"
   ]
  },
  {
   "cell_type": "code",
   "execution_count": 22,
   "outputs": [
    {
     "data": {
      "text/plain": "{'competition_id': 37,\n 'season_id': 90,\n 'country_name': 'England',\n 'competition_name': \"FA Women's Super League\",\n 'competition_gender': 'female',\n 'competition_youth': False,\n 'competition_international': False,\n 'season_name': '2020/2021',\n 'match_updated': '2022-11-29T22:31:27.257279',\n 'match_updated_360': '2021-06-13T16:17:31.694',\n 'match_available_360': None,\n 'match_available': '2022-11-29T22:31:27.257279'}"
     },
     "execution_count": 22,
     "metadata": {},
     "output_type": "execute_result"
    }
   ],
   "source": [
    "compet"
   ],
   "metadata": {
    "collapsed": false
   }
  },
  {
   "cell_type": "code",
   "execution_count": 20,
   "metadata": {},
   "outputs": [],
   "source": [
    "f = open('./data/matches/%s/%s.json' %(compet['competition_id'], compet['season_id']))\n",
    "\n",
    "matches = js.load(f)\n",
    "\n",
    "f.close()"
   ]
  },
  {
   "cell_type": "code",
   "execution_count": 27,
   "metadata": {},
   "outputs": [],
   "source": [
    "# Open lineups files, where the players' details are\n",
    "# (if they started the match, if they were substituted during the match, their number, etc.)\n",
    "\n",
    "lineups = {}\n",
    "\n",
    "for i in range(len(matches)):\n",
    "    f = open('./data/lineups/%s.json' %matches[i]['match_id'])\n",
    "    lineups[i] = js.load(f)\n",
    "    f.close()"
   ]
  },
  {
   "cell_type": "code",
   "execution_count": 35,
   "metadata": {},
   "outputs": [
    {
     "name": "stderr",
     "output_type": "stream",
     "text": [
      "/home/cseceh/anaconda2/lib/python3.7/site-packages/ipykernel_launcher.py:17: FutureWarning: pandas.io.json.json_normalize is deprecated, use pandas.json_normalize instead\n"
     ]
    }
   ],
   "source": [
    "# Open events data\n",
    "\n",
    "events = {}\n",
    "\n",
    "for i in range(len(matches)):\n",
    "    f = open('./data/events/%s.json' %matches[i]['match_id'])\n",
    "    events[i] = js.load(f)\n",
    "    f.close()\n",
    "\n",
    "# Get the nested structure into a dataframe\n",
    "# Store the dataframe in a dictionary with the match id as key (remove '.json' from string)\n",
    "from pandas.io.json import json_normalize\n",
    "\n",
    "df = {}\n",
    "\n",
    "for i in range(len(matches)):\n",
    "    df[i] = json_normalize(events[i], sep = \"_\").assign(match_id = matches[i]['match_id'])"
   ]
  },
  {
   "cell_type": "markdown",
   "source": [
    "Ideas of individual feelings stats visualisation: Who is the player with the most solid mental?\n",
    "- Compare home and away matches:\n",
    "    - distance run (average by match played) (do they do more efforts in home?)\n",
    "    - shots scored / missed and the position (do they take more risk in home?)\n",
    "- Compare matches against strong team and more small team"
   ],
   "metadata": {
    "collapsed": false
   }
  },
  {
   "cell_type": "code",
   "execution_count": null,
   "outputs": [],
   "source": [
    "#A dataframe of shots\n",
    "shots = {}\n",
    "\n",
    "for i in range(len(matches)):\n",
    "    shots[i] = df[i].loc[df[i]['type_name'] == 'Shot'].set_index('id')"
   ],
   "metadata": {
    "collapsed": false
   }
  },
  {
   "cell_type": "code",
   "execution_count": 43,
   "outputs": [
    {
     "data": {
      "text/plain": "                                      index  period     timestamp  minute  \\\nid                                                                          \n9d13b765-e60c-4868-9062-0c1d69361b84    522       1  00:10:52.649      10   \n05da4703-53c5-44b4-94b2-1a29eccfe543    542       1  00:11:25.442      11   \na48aae6e-e1b9-4bac-9555-55370181c520    686       1  00:16:27.895      16   \n4ddb1fdd-ad4b-47e1-863b-baef66f02983    795       1  00:19:50.757      19   \nf531e705-2763-49b0-a67c-dc8752ba5429    799       1  00:19:53.031      19   \nc05fde9f-0e82-4101-a901-cb03b7d7c7ae   1026       1  00:25:35.225      25   \nc1766a05-acfe-4484-93d4-620108481941   1054       1  00:26:36.113      26   \ne2c316bb-641b-4e74-8646-810ce5cf50a5   1111       1  00:28:10.031      28   \nbc8cc801-9b0f-4f59-95bf-236a2ae1c89f   1132       1  00:28:53.948      28   \n6172b1de-0789-4299-a465-7f654565f7ce   1317       1  00:34:44.256      34   \ndc696760-46c8-41bc-bac7-d6aa8e19f5a1   1623       1  00:46:56.687      46   \nd3f877cc-ce36-47ed-a8ab-63f3b8369ee6   2080       2  00:13:29.360      58   \nccd48eb4-3973-41e9-8923-0aae9ace960d   2215       2  00:22:06.661      67   \n9bd40cd8-bec1-4b4a-98bf-ea5df81f2065   2247       2  00:23:32.020      68   \nece06e01-8c95-4d2e-a979-eb9b4eaf4304   2292       2  00:23:59.531      68   \n1f6c723a-9df3-41aa-b8f7-5e95c8a1b76e   2567       2  00:30:44.058      75   \nbf38fb92-a5c7-4b0c-a276-845a00872770   3183       2  00:48:16.739      93   \n2fa7362f-c99c-49fd-9257-fd36aa3eff70   3205       2  00:48:35.790      93   \n3edb1a78-25ab-4eb3-98bf-2c29856f38ce   3209       2  00:48:38.113      93   \nbbc076e4-3c8c-4e0b-a105-f212132b27f3   3333       2  00:54:03.737      99   \n\n                                      second  possession  duration  type_id  \\\nid                                                                            \n9d13b765-e60c-4868-9062-0c1d69361b84      52          23  0.152162       16   \n05da4703-53c5-44b4-94b2-1a29eccfe543      25          25  1.364902       16   \na48aae6e-e1b9-4bac-9555-55370181c520      27          38  2.366946       16   \n4ddb1fdd-ad4b-47e1-863b-baef66f02983      50          43  0.135152       16   \nf531e705-2763-49b0-a67c-dc8752ba5429      53          43  0.554376       16   \nc05fde9f-0e82-4101-a901-cb03b7d7c7ae      35          53  1.252368       16   \nc1766a05-acfe-4484-93d4-620108481941      36          54  1.029690       16   \ne2c316bb-641b-4e74-8646-810ce5cf50a5      10          60  2.193710       16   \nbc8cc801-9b0f-4f59-95bf-236a2ae1c89f      53          61  1.529641       16   \n6172b1de-0789-4299-a465-7f654565f7ce      44          76  1.181204       16   \ndc696760-46c8-41bc-bac7-d6aa8e19f5a1      56         100  1.345887       16   \nd3f877cc-ce36-47ed-a8ab-63f3b8369ee6      29         131  1.459296       16   \nccd48eb4-3973-41e9-8923-0aae9ace960d       6         144  2.015553       16   \n9bd40cd8-bec1-4b4a-98bf-ea5df81f2065      32         147  0.062597       16   \nece06e01-8c95-4d2e-a979-eb9b4eaf4304      59         147  1.327457       16   \n1f6c723a-9df3-41aa-b8f7-5e95c8a1b76e      44         163  0.419317       16   \nbf38fb92-a5c7-4b0c-a276-845a00872770      16         191  0.583868       16   \n2fa7362f-c99c-49fd-9257-fd36aa3eff70      35         191  0.168744       16   \n3edb1a78-25ab-4eb3-98bf-2c29856f38ce      38         191  1.211654       16   \nbbc076e4-3c8c-4e0b-a105-f212132b27f3       3         200  0.721044       16   \n\n                                     type_name  possession_team_id  ...  \\\nid                                                                  ...   \n9d13b765-e60c-4868-9062-0c1d69361b84      Shot                 749  ...   \n05da4703-53c5-44b4-94b2-1a29eccfe543      Shot                2647  ...   \na48aae6e-e1b9-4bac-9555-55370181c520      Shot                 749  ...   \n4ddb1fdd-ad4b-47e1-863b-baef66f02983      Shot                2647  ...   \nf531e705-2763-49b0-a67c-dc8752ba5429      Shot                2647  ...   \nc05fde9f-0e82-4101-a901-cb03b7d7c7ae      Shot                 749  ...   \nc1766a05-acfe-4484-93d4-620108481941      Shot                2647  ...   \ne2c316bb-641b-4e74-8646-810ce5cf50a5      Shot                2647  ...   \nbc8cc801-9b0f-4f59-95bf-236a2ae1c89f      Shot                 749  ...   \n6172b1de-0789-4299-a465-7f654565f7ce      Shot                 749  ...   \ndc696760-46c8-41bc-bac7-d6aa8e19f5a1      Shot                 749  ...   \nd3f877cc-ce36-47ed-a8ab-63f3b8369ee6      Shot                 749  ...   \nccd48eb4-3973-41e9-8923-0aae9ace960d      Shot                2647  ...   \n9bd40cd8-bec1-4b4a-98bf-ea5df81f2065      Shot                2647  ...   \nece06e01-8c95-4d2e-a979-eb9b4eaf4304      Shot                2647  ...   \n1f6c723a-9df3-41aa-b8f7-5e95c8a1b76e      Shot                 749  ...   \nbf38fb92-a5c7-4b0c-a276-845a00872770      Shot                 749  ...   \n2fa7362f-c99c-49fd-9257-fd36aa3eff70      Shot                 749  ...   \n3edb1a78-25ab-4eb3-98bf-2c29856f38ce      Shot                 749  ...   \nbbc076e4-3c8c-4e0b-a105-f212132b27f3      Shot                 749  ...   \n\n                                     substitution_replacement_id  \\\nid                                                                 \n9d13b765-e60c-4868-9062-0c1d69361b84                         NaN   \n05da4703-53c5-44b4-94b2-1a29eccfe543                         NaN   \na48aae6e-e1b9-4bac-9555-55370181c520                         NaN   \n4ddb1fdd-ad4b-47e1-863b-baef66f02983                         NaN   \nf531e705-2763-49b0-a67c-dc8752ba5429                         NaN   \nc05fde9f-0e82-4101-a901-cb03b7d7c7ae                         NaN   \nc1766a05-acfe-4484-93d4-620108481941                         NaN   \ne2c316bb-641b-4e74-8646-810ce5cf50a5                         NaN   \nbc8cc801-9b0f-4f59-95bf-236a2ae1c89f                         NaN   \n6172b1de-0789-4299-a465-7f654565f7ce                         NaN   \ndc696760-46c8-41bc-bac7-d6aa8e19f5a1                         NaN   \nd3f877cc-ce36-47ed-a8ab-63f3b8369ee6                         NaN   \nccd48eb4-3973-41e9-8923-0aae9ace960d                         NaN   \n9bd40cd8-bec1-4b4a-98bf-ea5df81f2065                         NaN   \nece06e01-8c95-4d2e-a979-eb9b4eaf4304                         NaN   \n1f6c723a-9df3-41aa-b8f7-5e95c8a1b76e                         NaN   \nbf38fb92-a5c7-4b0c-a276-845a00872770                         NaN   \n2fa7362f-c99c-49fd-9257-fd36aa3eff70                         NaN   \n3edb1a78-25ab-4eb3-98bf-2c29856f38ce                         NaN   \nbbc076e4-3c8c-4e0b-a105-f212132b27f3                         NaN   \n\n                                      substitution_replacement_name  \\\nid                                                                    \n9d13b765-e60c-4868-9062-0c1d69361b84                            NaN   \n05da4703-53c5-44b4-94b2-1a29eccfe543                            NaN   \na48aae6e-e1b9-4bac-9555-55370181c520                            NaN   \n4ddb1fdd-ad4b-47e1-863b-baef66f02983                            NaN   \nf531e705-2763-49b0-a67c-dc8752ba5429                            NaN   \nc05fde9f-0e82-4101-a901-cb03b7d7c7ae                            NaN   \nc1766a05-acfe-4484-93d4-620108481941                            NaN   \ne2c316bb-641b-4e74-8646-810ce5cf50a5                            NaN   \nbc8cc801-9b0f-4f59-95bf-236a2ae1c89f                            NaN   \n6172b1de-0789-4299-a465-7f654565f7ce                            NaN   \ndc696760-46c8-41bc-bac7-d6aa8e19f5a1                            NaN   \nd3f877cc-ce36-47ed-a8ab-63f3b8369ee6                            NaN   \nccd48eb4-3973-41e9-8923-0aae9ace960d                            NaN   \n9bd40cd8-bec1-4b4a-98bf-ea5df81f2065                            NaN   \nece06e01-8c95-4d2e-a979-eb9b4eaf4304                            NaN   \n1f6c723a-9df3-41aa-b8f7-5e95c8a1b76e                            NaN   \nbf38fb92-a5c7-4b0c-a276-845a00872770                            NaN   \n2fa7362f-c99c-49fd-9257-fd36aa3eff70                            NaN   \n3edb1a78-25ab-4eb3-98bf-2c29856f38ce                            NaN   \nbbc076e4-3c8c-4e0b-a105-f212132b27f3                            NaN   \n\n                                     clearance_left_foot  \\\nid                                                         \n9d13b765-e60c-4868-9062-0c1d69361b84                 NaN   \n05da4703-53c5-44b4-94b2-1a29eccfe543                 NaN   \na48aae6e-e1b9-4bac-9555-55370181c520                 NaN   \n4ddb1fdd-ad4b-47e1-863b-baef66f02983                 NaN   \nf531e705-2763-49b0-a67c-dc8752ba5429                 NaN   \nc05fde9f-0e82-4101-a901-cb03b7d7c7ae                 NaN   \nc1766a05-acfe-4484-93d4-620108481941                 NaN   \ne2c316bb-641b-4e74-8646-810ce5cf50a5                 NaN   \nbc8cc801-9b0f-4f59-95bf-236a2ae1c89f                 NaN   \n6172b1de-0789-4299-a465-7f654565f7ce                 NaN   \ndc696760-46c8-41bc-bac7-d6aa8e19f5a1                 NaN   \nd3f877cc-ce36-47ed-a8ab-63f3b8369ee6                 NaN   \nccd48eb4-3973-41e9-8923-0aae9ace960d                 NaN   \n9bd40cd8-bec1-4b4a-98bf-ea5df81f2065                 NaN   \nece06e01-8c95-4d2e-a979-eb9b4eaf4304                 NaN   \n1f6c723a-9df3-41aa-b8f7-5e95c8a1b76e                 NaN   \nbf38fb92-a5c7-4b0c-a276-845a00872770                 NaN   \n2fa7362f-c99c-49fd-9257-fd36aa3eff70                 NaN   \n3edb1a78-25ab-4eb3-98bf-2c29856f38ce                 NaN   \nbbc076e4-3c8c-4e0b-a105-f212132b27f3                 NaN   \n\n                                      foul_committed_card_id  \\\nid                                                             \n9d13b765-e60c-4868-9062-0c1d69361b84                     NaN   \n05da4703-53c5-44b4-94b2-1a29eccfe543                     NaN   \na48aae6e-e1b9-4bac-9555-55370181c520                     NaN   \n4ddb1fdd-ad4b-47e1-863b-baef66f02983                     NaN   \nf531e705-2763-49b0-a67c-dc8752ba5429                     NaN   \nc05fde9f-0e82-4101-a901-cb03b7d7c7ae                     NaN   \nc1766a05-acfe-4484-93d4-620108481941                     NaN   \ne2c316bb-641b-4e74-8646-810ce5cf50a5                     NaN   \nbc8cc801-9b0f-4f59-95bf-236a2ae1c89f                     NaN   \n6172b1de-0789-4299-a465-7f654565f7ce                     NaN   \ndc696760-46c8-41bc-bac7-d6aa8e19f5a1                     NaN   \nd3f877cc-ce36-47ed-a8ab-63f3b8369ee6                     NaN   \nccd48eb4-3973-41e9-8923-0aae9ace960d                     NaN   \n9bd40cd8-bec1-4b4a-98bf-ea5df81f2065                     NaN   \nece06e01-8c95-4d2e-a979-eb9b4eaf4304                     NaN   \n1f6c723a-9df3-41aa-b8f7-5e95c8a1b76e                     NaN   \nbf38fb92-a5c7-4b0c-a276-845a00872770                     NaN   \n2fa7362f-c99c-49fd-9257-fd36aa3eff70                     NaN   \n3edb1a78-25ab-4eb3-98bf-2c29856f38ce                     NaN   \nbbc076e4-3c8c-4e0b-a105-f212132b27f3                     NaN   \n\n                                     foul_committed_card_name  \\\nid                                                              \n9d13b765-e60c-4868-9062-0c1d69361b84                      NaN   \n05da4703-53c5-44b4-94b2-1a29eccfe543                      NaN   \na48aae6e-e1b9-4bac-9555-55370181c520                      NaN   \n4ddb1fdd-ad4b-47e1-863b-baef66f02983                      NaN   \nf531e705-2763-49b0-a67c-dc8752ba5429                      NaN   \nc05fde9f-0e82-4101-a901-cb03b7d7c7ae                      NaN   \nc1766a05-acfe-4484-93d4-620108481941                      NaN   \ne2c316bb-641b-4e74-8646-810ce5cf50a5                      NaN   \nbc8cc801-9b0f-4f59-95bf-236a2ae1c89f                      NaN   \n6172b1de-0789-4299-a465-7f654565f7ce                      NaN   \ndc696760-46c8-41bc-bac7-d6aa8e19f5a1                      NaN   \nd3f877cc-ce36-47ed-a8ab-63f3b8369ee6                      NaN   \nccd48eb4-3973-41e9-8923-0aae9ace960d                      NaN   \n9bd40cd8-bec1-4b4a-98bf-ea5df81f2065                      NaN   \nece06e01-8c95-4d2e-a979-eb9b4eaf4304                      NaN   \n1f6c723a-9df3-41aa-b8f7-5e95c8a1b76e                      NaN   \nbf38fb92-a5c7-4b0c-a276-845a00872770                      NaN   \n2fa7362f-c99c-49fd-9257-fd36aa3eff70                      NaN   \n3edb1a78-25ab-4eb3-98bf-2c29856f38ce                      NaN   \nbbc076e4-3c8c-4e0b-a105-f212132b27f3                      NaN   \n\n                                      pass_outswinging shot_aerial_won  \\\nid                                                                       \n9d13b765-e60c-4868-9062-0c1d69361b84               NaN             NaN   \n05da4703-53c5-44b4-94b2-1a29eccfe543               NaN             NaN   \na48aae6e-e1b9-4bac-9555-55370181c520               NaN             NaN   \n4ddb1fdd-ad4b-47e1-863b-baef66f02983               NaN             NaN   \nf531e705-2763-49b0-a67c-dc8752ba5429               NaN             NaN   \nc05fde9f-0e82-4101-a901-cb03b7d7c7ae               NaN             NaN   \nc1766a05-acfe-4484-93d4-620108481941               NaN             NaN   \ne2c316bb-641b-4e74-8646-810ce5cf50a5               NaN             NaN   \nbc8cc801-9b0f-4f59-95bf-236a2ae1c89f               NaN             NaN   \n6172b1de-0789-4299-a465-7f654565f7ce               NaN             NaN   \ndc696760-46c8-41bc-bac7-d6aa8e19f5a1               NaN             NaN   \nd3f877cc-ce36-47ed-a8ab-63f3b8369ee6               NaN             NaN   \nccd48eb4-3973-41e9-8923-0aae9ace960d               NaN             NaN   \n9bd40cd8-bec1-4b4a-98bf-ea5df81f2065               NaN             NaN   \nece06e01-8c95-4d2e-a979-eb9b4eaf4304               NaN            True   \n1f6c723a-9df3-41aa-b8f7-5e95c8a1b76e               NaN             NaN   \nbf38fb92-a5c7-4b0c-a276-845a00872770               NaN             NaN   \n2fa7362f-c99c-49fd-9257-fd36aa3eff70               NaN             NaN   \n3edb1a78-25ab-4eb3-98bf-2c29856f38ce               NaN             NaN   \nbbc076e4-3c8c-4e0b-a105-f212132b27f3               NaN             NaN   \n\n                                     shot_saved_off_target  \\\nid                                                           \n9d13b765-e60c-4868-9062-0c1d69361b84                   NaN   \n05da4703-53c5-44b4-94b2-1a29eccfe543                   NaN   \na48aae6e-e1b9-4bac-9555-55370181c520                   NaN   \n4ddb1fdd-ad4b-47e1-863b-baef66f02983                   NaN   \nf531e705-2763-49b0-a67c-dc8752ba5429                   NaN   \nc05fde9f-0e82-4101-a901-cb03b7d7c7ae                   NaN   \nc1766a05-acfe-4484-93d4-620108481941                   NaN   \ne2c316bb-641b-4e74-8646-810ce5cf50a5                   NaN   \nbc8cc801-9b0f-4f59-95bf-236a2ae1c89f                   NaN   \n6172b1de-0789-4299-a465-7f654565f7ce                   NaN   \ndc696760-46c8-41bc-bac7-d6aa8e19f5a1                   NaN   \nd3f877cc-ce36-47ed-a8ab-63f3b8369ee6                   NaN   \nccd48eb4-3973-41e9-8923-0aae9ace960d                   NaN   \n9bd40cd8-bec1-4b4a-98bf-ea5df81f2065                   NaN   \nece06e01-8c95-4d2e-a979-eb9b4eaf4304                  True   \n1f6c723a-9df3-41aa-b8f7-5e95c8a1b76e                   NaN   \nbf38fb92-a5c7-4b0c-a276-845a00872770                   NaN   \n2fa7362f-c99c-49fd-9257-fd36aa3eff70                   NaN   \n3edb1a78-25ab-4eb3-98bf-2c29856f38ce                   NaN   \nbbc076e4-3c8c-4e0b-a105-f212132b27f3                   NaN   \n\n                                     goalkeeper_shot_saved_off_target  \\\nid                                                                      \n9d13b765-e60c-4868-9062-0c1d69361b84                              NaN   \n05da4703-53c5-44b4-94b2-1a29eccfe543                              NaN   \na48aae6e-e1b9-4bac-9555-55370181c520                              NaN   \n4ddb1fdd-ad4b-47e1-863b-baef66f02983                              NaN   \nf531e705-2763-49b0-a67c-dc8752ba5429                              NaN   \nc05fde9f-0e82-4101-a901-cb03b7d7c7ae                              NaN   \nc1766a05-acfe-4484-93d4-620108481941                              NaN   \ne2c316bb-641b-4e74-8646-810ce5cf50a5                              NaN   \nbc8cc801-9b0f-4f59-95bf-236a2ae1c89f                              NaN   \n6172b1de-0789-4299-a465-7f654565f7ce                              NaN   \ndc696760-46c8-41bc-bac7-d6aa8e19f5a1                              NaN   \nd3f877cc-ce36-47ed-a8ab-63f3b8369ee6                              NaN   \nccd48eb4-3973-41e9-8923-0aae9ace960d                              NaN   \n9bd40cd8-bec1-4b4a-98bf-ea5df81f2065                              NaN   \nece06e01-8c95-4d2e-a979-eb9b4eaf4304                              NaN   \n1f6c723a-9df3-41aa-b8f7-5e95c8a1b76e                              NaN   \nbf38fb92-a5c7-4b0c-a276-845a00872770                              NaN   \n2fa7362f-c99c-49fd-9257-fd36aa3eff70                              NaN   \n3edb1a78-25ab-4eb3-98bf-2c29856f38ce                              NaN   \nbbc076e4-3c8c-4e0b-a105-f212132b27f3                              NaN   \n\n                                      match_id  \nid                                              \n9d13b765-e60c-4868-9062-0c1d69361b84   3775633  \n05da4703-53c5-44b4-94b2-1a29eccfe543   3775633  \na48aae6e-e1b9-4bac-9555-55370181c520   3775633  \n4ddb1fdd-ad4b-47e1-863b-baef66f02983   3775633  \nf531e705-2763-49b0-a67c-dc8752ba5429   3775633  \nc05fde9f-0e82-4101-a901-cb03b7d7c7ae   3775633  \nc1766a05-acfe-4484-93d4-620108481941   3775633  \ne2c316bb-641b-4e74-8646-810ce5cf50a5   3775633  \nbc8cc801-9b0f-4f59-95bf-236a2ae1c89f   3775633  \n6172b1de-0789-4299-a465-7f654565f7ce   3775633  \ndc696760-46c8-41bc-bac7-d6aa8e19f5a1   3775633  \nd3f877cc-ce36-47ed-a8ab-63f3b8369ee6   3775633  \nccd48eb4-3973-41e9-8923-0aae9ace960d   3775633  \n9bd40cd8-bec1-4b4a-98bf-ea5df81f2065   3775633  \nece06e01-8c95-4d2e-a979-eb9b4eaf4304   3775633  \n1f6c723a-9df3-41aa-b8f7-5e95c8a1b76e   3775633  \nbf38fb92-a5c7-4b0c-a276-845a00872770   3775633  \n2fa7362f-c99c-49fd-9257-fd36aa3eff70   3775633  \n3edb1a78-25ab-4eb3-98bf-2c29856f38ce   3775633  \nbbc076e4-3c8c-4e0b-a105-f212132b27f3   3775633  \n\n[20 rows x 112 columns]",
      "text/html": "<div>\n<style scoped>\n    .dataframe tbody tr th:only-of-type {\n        vertical-align: middle;\n    }\n\n    .dataframe tbody tr th {\n        vertical-align: top;\n    }\n\n    .dataframe thead th {\n        text-align: right;\n    }\n</style>\n<table border=\"1\" class=\"dataframe\">\n  <thead>\n    <tr style=\"text-align: right;\">\n      <th></th>\n      <th>index</th>\n      <th>period</th>\n      <th>timestamp</th>\n      <th>minute</th>\n      <th>second</th>\n      <th>possession</th>\n      <th>duration</th>\n      <th>type_id</th>\n      <th>type_name</th>\n      <th>possession_team_id</th>\n      <th>...</th>\n      <th>substitution_replacement_id</th>\n      <th>substitution_replacement_name</th>\n      <th>clearance_left_foot</th>\n      <th>foul_committed_card_id</th>\n      <th>foul_committed_card_name</th>\n      <th>pass_outswinging</th>\n      <th>shot_aerial_won</th>\n      <th>shot_saved_off_target</th>\n      <th>goalkeeper_shot_saved_off_target</th>\n      <th>match_id</th>\n    </tr>\n    <tr>\n      <th>id</th>\n      <th></th>\n      <th></th>\n      <th></th>\n      <th></th>\n      <th></th>\n      <th></th>\n      <th></th>\n      <th></th>\n      <th></th>\n      <th></th>\n      <th></th>\n      <th></th>\n      <th></th>\n      <th></th>\n      <th></th>\n      <th></th>\n      <th></th>\n      <th></th>\n      <th></th>\n      <th></th>\n      <th></th>\n    </tr>\n  </thead>\n  <tbody>\n    <tr>\n      <th>9d13b765-e60c-4868-9062-0c1d69361b84</th>\n      <td>522</td>\n      <td>1</td>\n      <td>00:10:52.649</td>\n      <td>10</td>\n      <td>52</td>\n      <td>23</td>\n      <td>0.152162</td>\n      <td>16</td>\n      <td>Shot</td>\n      <td>749</td>\n      <td>...</td>\n      <td>NaN</td>\n      <td>NaN</td>\n      <td>NaN</td>\n      <td>NaN</td>\n      <td>NaN</td>\n      <td>NaN</td>\n      <td>NaN</td>\n      <td>NaN</td>\n      <td>NaN</td>\n      <td>3775633</td>\n    </tr>\n    <tr>\n      <th>05da4703-53c5-44b4-94b2-1a29eccfe543</th>\n      <td>542</td>\n      <td>1</td>\n      <td>00:11:25.442</td>\n      <td>11</td>\n      <td>25</td>\n      <td>25</td>\n      <td>1.364902</td>\n      <td>16</td>\n      <td>Shot</td>\n      <td>2647</td>\n      <td>...</td>\n      <td>NaN</td>\n      <td>NaN</td>\n      <td>NaN</td>\n      <td>NaN</td>\n      <td>NaN</td>\n      <td>NaN</td>\n      <td>NaN</td>\n      <td>NaN</td>\n      <td>NaN</td>\n      <td>3775633</td>\n    </tr>\n    <tr>\n      <th>a48aae6e-e1b9-4bac-9555-55370181c520</th>\n      <td>686</td>\n      <td>1</td>\n      <td>00:16:27.895</td>\n      <td>16</td>\n      <td>27</td>\n      <td>38</td>\n      <td>2.366946</td>\n      <td>16</td>\n      <td>Shot</td>\n      <td>749</td>\n      <td>...</td>\n      <td>NaN</td>\n      <td>NaN</td>\n      <td>NaN</td>\n      <td>NaN</td>\n      <td>NaN</td>\n      <td>NaN</td>\n      <td>NaN</td>\n      <td>NaN</td>\n      <td>NaN</td>\n      <td>3775633</td>\n    </tr>\n    <tr>\n      <th>4ddb1fdd-ad4b-47e1-863b-baef66f02983</th>\n      <td>795</td>\n      <td>1</td>\n      <td>00:19:50.757</td>\n      <td>19</td>\n      <td>50</td>\n      <td>43</td>\n      <td>0.135152</td>\n      <td>16</td>\n      <td>Shot</td>\n      <td>2647</td>\n      <td>...</td>\n      <td>NaN</td>\n      <td>NaN</td>\n      <td>NaN</td>\n      <td>NaN</td>\n      <td>NaN</td>\n      <td>NaN</td>\n      <td>NaN</td>\n      <td>NaN</td>\n      <td>NaN</td>\n      <td>3775633</td>\n    </tr>\n    <tr>\n      <th>f531e705-2763-49b0-a67c-dc8752ba5429</th>\n      <td>799</td>\n      <td>1</td>\n      <td>00:19:53.031</td>\n      <td>19</td>\n      <td>53</td>\n      <td>43</td>\n      <td>0.554376</td>\n      <td>16</td>\n      <td>Shot</td>\n      <td>2647</td>\n      <td>...</td>\n      <td>NaN</td>\n      <td>NaN</td>\n      <td>NaN</td>\n      <td>NaN</td>\n      <td>NaN</td>\n      <td>NaN</td>\n      <td>NaN</td>\n      <td>NaN</td>\n      <td>NaN</td>\n      <td>3775633</td>\n    </tr>\n    <tr>\n      <th>c05fde9f-0e82-4101-a901-cb03b7d7c7ae</th>\n      <td>1026</td>\n      <td>1</td>\n      <td>00:25:35.225</td>\n      <td>25</td>\n      <td>35</td>\n      <td>53</td>\n      <td>1.252368</td>\n      <td>16</td>\n      <td>Shot</td>\n      <td>749</td>\n      <td>...</td>\n      <td>NaN</td>\n      <td>NaN</td>\n      <td>NaN</td>\n      <td>NaN</td>\n      <td>NaN</td>\n      <td>NaN</td>\n      <td>NaN</td>\n      <td>NaN</td>\n      <td>NaN</td>\n      <td>3775633</td>\n    </tr>\n    <tr>\n      <th>c1766a05-acfe-4484-93d4-620108481941</th>\n      <td>1054</td>\n      <td>1</td>\n      <td>00:26:36.113</td>\n      <td>26</td>\n      <td>36</td>\n      <td>54</td>\n      <td>1.029690</td>\n      <td>16</td>\n      <td>Shot</td>\n      <td>2647</td>\n      <td>...</td>\n      <td>NaN</td>\n      <td>NaN</td>\n      <td>NaN</td>\n      <td>NaN</td>\n      <td>NaN</td>\n      <td>NaN</td>\n      <td>NaN</td>\n      <td>NaN</td>\n      <td>NaN</td>\n      <td>3775633</td>\n    </tr>\n    <tr>\n      <th>e2c316bb-641b-4e74-8646-810ce5cf50a5</th>\n      <td>1111</td>\n      <td>1</td>\n      <td>00:28:10.031</td>\n      <td>28</td>\n      <td>10</td>\n      <td>60</td>\n      <td>2.193710</td>\n      <td>16</td>\n      <td>Shot</td>\n      <td>2647</td>\n      <td>...</td>\n      <td>NaN</td>\n      <td>NaN</td>\n      <td>NaN</td>\n      <td>NaN</td>\n      <td>NaN</td>\n      <td>NaN</td>\n      <td>NaN</td>\n      <td>NaN</td>\n      <td>NaN</td>\n      <td>3775633</td>\n    </tr>\n    <tr>\n      <th>bc8cc801-9b0f-4f59-95bf-236a2ae1c89f</th>\n      <td>1132</td>\n      <td>1</td>\n      <td>00:28:53.948</td>\n      <td>28</td>\n      <td>53</td>\n      <td>61</td>\n      <td>1.529641</td>\n      <td>16</td>\n      <td>Shot</td>\n      <td>749</td>\n      <td>...</td>\n      <td>NaN</td>\n      <td>NaN</td>\n      <td>NaN</td>\n      <td>NaN</td>\n      <td>NaN</td>\n      <td>NaN</td>\n      <td>NaN</td>\n      <td>NaN</td>\n      <td>NaN</td>\n      <td>3775633</td>\n    </tr>\n    <tr>\n      <th>6172b1de-0789-4299-a465-7f654565f7ce</th>\n      <td>1317</td>\n      <td>1</td>\n      <td>00:34:44.256</td>\n      <td>34</td>\n      <td>44</td>\n      <td>76</td>\n      <td>1.181204</td>\n      <td>16</td>\n      <td>Shot</td>\n      <td>749</td>\n      <td>...</td>\n      <td>NaN</td>\n      <td>NaN</td>\n      <td>NaN</td>\n      <td>NaN</td>\n      <td>NaN</td>\n      <td>NaN</td>\n      <td>NaN</td>\n      <td>NaN</td>\n      <td>NaN</td>\n      <td>3775633</td>\n    </tr>\n    <tr>\n      <th>dc696760-46c8-41bc-bac7-d6aa8e19f5a1</th>\n      <td>1623</td>\n      <td>1</td>\n      <td>00:46:56.687</td>\n      <td>46</td>\n      <td>56</td>\n      <td>100</td>\n      <td>1.345887</td>\n      <td>16</td>\n      <td>Shot</td>\n      <td>749</td>\n      <td>...</td>\n      <td>NaN</td>\n      <td>NaN</td>\n      <td>NaN</td>\n      <td>NaN</td>\n      <td>NaN</td>\n      <td>NaN</td>\n      <td>NaN</td>\n      <td>NaN</td>\n      <td>NaN</td>\n      <td>3775633</td>\n    </tr>\n    <tr>\n      <th>d3f877cc-ce36-47ed-a8ab-63f3b8369ee6</th>\n      <td>2080</td>\n      <td>2</td>\n      <td>00:13:29.360</td>\n      <td>58</td>\n      <td>29</td>\n      <td>131</td>\n      <td>1.459296</td>\n      <td>16</td>\n      <td>Shot</td>\n      <td>749</td>\n      <td>...</td>\n      <td>NaN</td>\n      <td>NaN</td>\n      <td>NaN</td>\n      <td>NaN</td>\n      <td>NaN</td>\n      <td>NaN</td>\n      <td>NaN</td>\n      <td>NaN</td>\n      <td>NaN</td>\n      <td>3775633</td>\n    </tr>\n    <tr>\n      <th>ccd48eb4-3973-41e9-8923-0aae9ace960d</th>\n      <td>2215</td>\n      <td>2</td>\n      <td>00:22:06.661</td>\n      <td>67</td>\n      <td>6</td>\n      <td>144</td>\n      <td>2.015553</td>\n      <td>16</td>\n      <td>Shot</td>\n      <td>2647</td>\n      <td>...</td>\n      <td>NaN</td>\n      <td>NaN</td>\n      <td>NaN</td>\n      <td>NaN</td>\n      <td>NaN</td>\n      <td>NaN</td>\n      <td>NaN</td>\n      <td>NaN</td>\n      <td>NaN</td>\n      <td>3775633</td>\n    </tr>\n    <tr>\n      <th>9bd40cd8-bec1-4b4a-98bf-ea5df81f2065</th>\n      <td>2247</td>\n      <td>2</td>\n      <td>00:23:32.020</td>\n      <td>68</td>\n      <td>32</td>\n      <td>147</td>\n      <td>0.062597</td>\n      <td>16</td>\n      <td>Shot</td>\n      <td>2647</td>\n      <td>...</td>\n      <td>NaN</td>\n      <td>NaN</td>\n      <td>NaN</td>\n      <td>NaN</td>\n      <td>NaN</td>\n      <td>NaN</td>\n      <td>NaN</td>\n      <td>NaN</td>\n      <td>NaN</td>\n      <td>3775633</td>\n    </tr>\n    <tr>\n      <th>ece06e01-8c95-4d2e-a979-eb9b4eaf4304</th>\n      <td>2292</td>\n      <td>2</td>\n      <td>00:23:59.531</td>\n      <td>68</td>\n      <td>59</td>\n      <td>147</td>\n      <td>1.327457</td>\n      <td>16</td>\n      <td>Shot</td>\n      <td>2647</td>\n      <td>...</td>\n      <td>NaN</td>\n      <td>NaN</td>\n      <td>NaN</td>\n      <td>NaN</td>\n      <td>NaN</td>\n      <td>NaN</td>\n      <td>True</td>\n      <td>True</td>\n      <td>NaN</td>\n      <td>3775633</td>\n    </tr>\n    <tr>\n      <th>1f6c723a-9df3-41aa-b8f7-5e95c8a1b76e</th>\n      <td>2567</td>\n      <td>2</td>\n      <td>00:30:44.058</td>\n      <td>75</td>\n      <td>44</td>\n      <td>163</td>\n      <td>0.419317</td>\n      <td>16</td>\n      <td>Shot</td>\n      <td>749</td>\n      <td>...</td>\n      <td>NaN</td>\n      <td>NaN</td>\n      <td>NaN</td>\n      <td>NaN</td>\n      <td>NaN</td>\n      <td>NaN</td>\n      <td>NaN</td>\n      <td>NaN</td>\n      <td>NaN</td>\n      <td>3775633</td>\n    </tr>\n    <tr>\n      <th>bf38fb92-a5c7-4b0c-a276-845a00872770</th>\n      <td>3183</td>\n      <td>2</td>\n      <td>00:48:16.739</td>\n      <td>93</td>\n      <td>16</td>\n      <td>191</td>\n      <td>0.583868</td>\n      <td>16</td>\n      <td>Shot</td>\n      <td>749</td>\n      <td>...</td>\n      <td>NaN</td>\n      <td>NaN</td>\n      <td>NaN</td>\n      <td>NaN</td>\n      <td>NaN</td>\n      <td>NaN</td>\n      <td>NaN</td>\n      <td>NaN</td>\n      <td>NaN</td>\n      <td>3775633</td>\n    </tr>\n    <tr>\n      <th>2fa7362f-c99c-49fd-9257-fd36aa3eff70</th>\n      <td>3205</td>\n      <td>2</td>\n      <td>00:48:35.790</td>\n      <td>93</td>\n      <td>35</td>\n      <td>191</td>\n      <td>0.168744</td>\n      <td>16</td>\n      <td>Shot</td>\n      <td>749</td>\n      <td>...</td>\n      <td>NaN</td>\n      <td>NaN</td>\n      <td>NaN</td>\n      <td>NaN</td>\n      <td>NaN</td>\n      <td>NaN</td>\n      <td>NaN</td>\n      <td>NaN</td>\n      <td>NaN</td>\n      <td>3775633</td>\n    </tr>\n    <tr>\n      <th>3edb1a78-25ab-4eb3-98bf-2c29856f38ce</th>\n      <td>3209</td>\n      <td>2</td>\n      <td>00:48:38.113</td>\n      <td>93</td>\n      <td>38</td>\n      <td>191</td>\n      <td>1.211654</td>\n      <td>16</td>\n      <td>Shot</td>\n      <td>749</td>\n      <td>...</td>\n      <td>NaN</td>\n      <td>NaN</td>\n      <td>NaN</td>\n      <td>NaN</td>\n      <td>NaN</td>\n      <td>NaN</td>\n      <td>NaN</td>\n      <td>NaN</td>\n      <td>NaN</td>\n      <td>3775633</td>\n    </tr>\n    <tr>\n      <th>bbc076e4-3c8c-4e0b-a105-f212132b27f3</th>\n      <td>3333</td>\n      <td>2</td>\n      <td>00:54:03.737</td>\n      <td>99</td>\n      <td>3</td>\n      <td>200</td>\n      <td>0.721044</td>\n      <td>16</td>\n      <td>Shot</td>\n      <td>749</td>\n      <td>...</td>\n      <td>NaN</td>\n      <td>NaN</td>\n      <td>NaN</td>\n      <td>NaN</td>\n      <td>NaN</td>\n      <td>NaN</td>\n      <td>NaN</td>\n      <td>NaN</td>\n      <td>NaN</td>\n      <td>3775633</td>\n    </tr>\n  </tbody>\n</table>\n<p>20 rows × 112 columns</p>\n</div>"
     },
     "execution_count": 43,
     "metadata": {},
     "output_type": "execute_result"
    }
   ],
   "source": [
    "shots[2]"
   ],
   "metadata": {
    "collapsed": false
   }
  },
  {
   "cell_type": "code",
   "execution_count": 57,
   "outputs": [],
   "source": [
    "teams = pd.DataFrame(columns=['home','away'], index=(np.arange(0,len(matches))))\n",
    "\n",
    "for i in range(len(matches)):\n",
    "    teams['home'][i] = matches[i]['home_team']['home_team_name']\n",
    "    teams['away'][i] = matches[i]['away_team']['away_team_name']"
   ],
   "metadata": {
    "collapsed": false
   }
  },
  {
   "cell_type": "code",
   "execution_count": 58,
   "outputs": [
    {
     "data": {
      "text/plain": "                           home                        away\n0                   Aston Villa                 Arsenal WFC\n1                   Arsenal WFC         West Ham United LFC\n2                   Aston Villa     Tottenham Hotspur Women\n3    Brighton & Hove Albion WFC                 Everton LFC\n4                   Chelsea FCW                 Aston Villa\n..                          ...                         ...\n126         West Ham United LFC     Tottenham Hotspur Women\n127         West Ham United LFC                 Aston Villa\n128                 Everton LFC                 Reading WFC\n129                 Chelsea FCW  Brighton & Hove Albion WFC\n130         West Ham United LFC                 Arsenal WFC\n\n[131 rows x 2 columns]",
      "text/html": "<div>\n<style scoped>\n    .dataframe tbody tr th:only-of-type {\n        vertical-align: middle;\n    }\n\n    .dataframe tbody tr th {\n        vertical-align: top;\n    }\n\n    .dataframe thead th {\n        text-align: right;\n    }\n</style>\n<table border=\"1\" class=\"dataframe\">\n  <thead>\n    <tr style=\"text-align: right;\">\n      <th></th>\n      <th>home</th>\n      <th>away</th>\n    </tr>\n  </thead>\n  <tbody>\n    <tr>\n      <th>0</th>\n      <td>Aston Villa</td>\n      <td>Arsenal WFC</td>\n    </tr>\n    <tr>\n      <th>1</th>\n      <td>Arsenal WFC</td>\n      <td>West Ham United LFC</td>\n    </tr>\n    <tr>\n      <th>2</th>\n      <td>Aston Villa</td>\n      <td>Tottenham Hotspur Women</td>\n    </tr>\n    <tr>\n      <th>3</th>\n      <td>Brighton &amp; Hove Albion WFC</td>\n      <td>Everton LFC</td>\n    </tr>\n    <tr>\n      <th>4</th>\n      <td>Chelsea FCW</td>\n      <td>Aston Villa</td>\n    </tr>\n    <tr>\n      <th>...</th>\n      <td>...</td>\n      <td>...</td>\n    </tr>\n    <tr>\n      <th>126</th>\n      <td>West Ham United LFC</td>\n      <td>Tottenham Hotspur Women</td>\n    </tr>\n    <tr>\n      <th>127</th>\n      <td>West Ham United LFC</td>\n      <td>Aston Villa</td>\n    </tr>\n    <tr>\n      <th>128</th>\n      <td>Everton LFC</td>\n      <td>Reading WFC</td>\n    </tr>\n    <tr>\n      <th>129</th>\n      <td>Chelsea FCW</td>\n      <td>Brighton &amp; Hove Albion WFC</td>\n    </tr>\n    <tr>\n      <th>130</th>\n      <td>West Ham United LFC</td>\n      <td>Arsenal WFC</td>\n    </tr>\n  </tbody>\n</table>\n<p>131 rows × 2 columns</p>\n</div>"
     },
     "execution_count": 58,
     "metadata": {},
     "output_type": "execute_result"
    }
   ],
   "source": [
    "teams"
   ],
   "metadata": {
    "collapsed": false
   }
  },
  {
   "cell_type": "markdown",
   "source": [
    "Comparison of shots between home and away matches, by teams first, then, by players"
   ],
   "metadata": {
    "collapsed": false
   }
  },
  {
   "cell_type": "code",
   "execution_count": 76,
   "outputs": [],
   "source": [
    "teams = pd.DataFrame(columns=['team_home','team_away','shots_home','shots_away'], index=(np.arange(0,len(matches))))\n",
    "\n",
    "for i in range(len(matches)):\n",
    "    teams['team_home'][i] = matches[i]['home_team']['home_team_name']\n",
    "    teams['team_away'][i] = matches[i]['away_team']['away_team_name']\n",
    "\n",
    "    teams['shots_home'][i] = len(shots[i].loc[shots[i]['team_name'] == matches[i]['home_team']['home_team_name']])\n",
    "    teams['shots_away'][i] = len(shots[i].loc[shots[i]['team_name'] == matches[i]['away_team']['away_team_name']])\n"
   ],
   "metadata": {
    "collapsed": false
   }
  },
  {
   "cell_type": "code",
   "execution_count": 77,
   "outputs": [
    {
     "data": {
      "text/plain": "                      team_home                   team_away shots_home  \\\n0                   Aston Villa                 Arsenal WFC          5   \n1                   Arsenal WFC         West Ham United LFC         15   \n2                   Aston Villa     Tottenham Hotspur Women          8   \n3    Brighton & Hove Albion WFC                 Everton LFC          6   \n4                   Chelsea FCW                 Aston Villa         19   \n..                          ...                         ...        ...   \n126         West Ham United LFC     Tottenham Hotspur Women         14   \n127         West Ham United LFC                 Aston Villa          7   \n128                 Everton LFC                 Reading WFC         19   \n129                 Chelsea FCW  Brighton & Hove Albion WFC         31   \n130         West Ham United LFC                 Arsenal WFC          3   \n\n    shots_away  \n0           27  \n1            7  \n2           12  \n3           15  \n4            1  \n..         ...  \n126          6  \n127          2  \n128          8  \n129          4  \n130         25  \n\n[131 rows x 4 columns]",
      "text/html": "<div>\n<style scoped>\n    .dataframe tbody tr th:only-of-type {\n        vertical-align: middle;\n    }\n\n    .dataframe tbody tr th {\n        vertical-align: top;\n    }\n\n    .dataframe thead th {\n        text-align: right;\n    }\n</style>\n<table border=\"1\" class=\"dataframe\">\n  <thead>\n    <tr style=\"text-align: right;\">\n      <th></th>\n      <th>team_home</th>\n      <th>team_away</th>\n      <th>shots_home</th>\n      <th>shots_away</th>\n    </tr>\n  </thead>\n  <tbody>\n    <tr>\n      <th>0</th>\n      <td>Aston Villa</td>\n      <td>Arsenal WFC</td>\n      <td>5</td>\n      <td>27</td>\n    </tr>\n    <tr>\n      <th>1</th>\n      <td>Arsenal WFC</td>\n      <td>West Ham United LFC</td>\n      <td>15</td>\n      <td>7</td>\n    </tr>\n    <tr>\n      <th>2</th>\n      <td>Aston Villa</td>\n      <td>Tottenham Hotspur Women</td>\n      <td>8</td>\n      <td>12</td>\n    </tr>\n    <tr>\n      <th>3</th>\n      <td>Brighton &amp; Hove Albion WFC</td>\n      <td>Everton LFC</td>\n      <td>6</td>\n      <td>15</td>\n    </tr>\n    <tr>\n      <th>4</th>\n      <td>Chelsea FCW</td>\n      <td>Aston Villa</td>\n      <td>19</td>\n      <td>1</td>\n    </tr>\n    <tr>\n      <th>...</th>\n      <td>...</td>\n      <td>...</td>\n      <td>...</td>\n      <td>...</td>\n    </tr>\n    <tr>\n      <th>126</th>\n      <td>West Ham United LFC</td>\n      <td>Tottenham Hotspur Women</td>\n      <td>14</td>\n      <td>6</td>\n    </tr>\n    <tr>\n      <th>127</th>\n      <td>West Ham United LFC</td>\n      <td>Aston Villa</td>\n      <td>7</td>\n      <td>2</td>\n    </tr>\n    <tr>\n      <th>128</th>\n      <td>Everton LFC</td>\n      <td>Reading WFC</td>\n      <td>19</td>\n      <td>8</td>\n    </tr>\n    <tr>\n      <th>129</th>\n      <td>Chelsea FCW</td>\n      <td>Brighton &amp; Hove Albion WFC</td>\n      <td>31</td>\n      <td>4</td>\n    </tr>\n    <tr>\n      <th>130</th>\n      <td>West Ham United LFC</td>\n      <td>Arsenal WFC</td>\n      <td>3</td>\n      <td>25</td>\n    </tr>\n  </tbody>\n</table>\n<p>131 rows × 4 columns</p>\n</div>"
     },
     "execution_count": 77,
     "metadata": {},
     "output_type": "execute_result"
    }
   ],
   "source": [
    "teams"
   ],
   "metadata": {
    "collapsed": false
   }
  },
  {
   "cell_type": "code",
   "execution_count": 88,
   "outputs": [
    {
     "data": {
      "text/plain": "[<matplotlib.lines.Line2D at 0x7f7af2c8e650>]"
     },
     "execution_count": 88,
     "metadata": {},
     "output_type": "execute_result"
    },
    {
     "data": {
      "text/plain": "<Figure size 504x432 with 1 Axes>",
      "image/png": "[encoded data removed]"
     },
     "metadata": {
      "needs_background": "light"
     },
     "output_type": "display_data"
    }
   ],
   "source": [
    "plt.rcParams[\"figure.figsize\"] = [7, 6]\n",
    "plt.rcParams[\"figure.autolayout\"] = True\n",
    "\n",
    "plt.scatter(teams['shots_home'], teams['shots_away'])\n",
    "\n",
    "plt.xlim(0,40)\n",
    "plt.ylim(0,40)\n",
    "\n",
    "plt.xlabel('Shots by Home Team')\n",
    "plt.ylabel('Shots by Away Team')\n",
    "\n",
    "plt.plot([0,40],[0,40])"
   ],
   "metadata": {
    "collapsed": false
   }
  },
  {
   "cell_type": "markdown",
   "source": [
    "Colorize each points with a specific color for a specific team"
   ],
   "metadata": {
    "collapsed": false
   }
  },
  {
   "cell_type": "code",
   "execution_count": null,
   "outputs": [],
   "source": [],
   "metadata": {
    "collapsed": false
   }
  }
 ],
 "metadata": {
  "kernelspec": {
   "display_name": "base",
   "language": "python",
   "name": "python3"
  },
  "language_info": {
   "codemirror_mode": {
    "name": "ipython",
    "version": 3
   },
   "file_extension": ".py",
   "mimetype": "text/x-python",
   "name": "python",
   "nbconvert_exporter": "python",
   "pygments_lexer": "ipython3",
   "version": "3.7.11"
  },
  "orig_nbformat": 4,
  "vscode": {
   "interpreter": {
    "hash": "d071c9e46e89fc979af62861e723ad6e66fa55c5254b7beaeadd61d7676492a1"
   }
  }
 },
 "nbformat": 4,
 "nbformat_minor": 2
}
